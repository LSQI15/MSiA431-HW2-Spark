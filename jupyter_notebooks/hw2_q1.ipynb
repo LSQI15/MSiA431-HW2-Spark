{
 "cells": [
  {
   "cell_type": "code",
   "execution_count": 1,
   "metadata": {},
   "outputs": [],
   "source": [
    "from pyspark.sql import SQLContext\n",
    "from pyspark import SparkContext\n",
    "\n",
    "sc = SparkContext()\n",
    "sqlcontext = SQLContext(sc)"
   ]
  },
  {
   "cell_type": "code",
   "execution_count": 2,
   "metadata": {},
   "outputs": [],
   "source": [
    "path = \"hdfs://wolf.analytics.private/user/slx4192/data/crime/Crimes_-_2001_to_present.csv\"\n",
    "mydata = sqlcontext.read.csv(path, header = True)"
   ]
  },
  {
   "cell_type": "code",
   "execution_count": 3,
   "metadata": {},
   "outputs": [
    {
     "name": "stdout",
     "output_type": "stream",
     "text": [
      "+--------+-----------+--------------------+---------------+----+------------------+--------------------+--------------------+------+--------+----+--------+----+--------------+--------+------------+------------+----+--------------------+--------+---------+--------+\n",
      "|      ID|Case Number|                Date|          Block|IUCR|      Primary Type|         Description|Location Description|Arrest|Domestic|Beat|District|Ward|Community Area|FBI Code|X Coordinate|Y Coordinate|Year|          Updated On|Latitude|Longitude|Location|\n",
      "+--------+-----------+--------------------+---------------+----+------------------+--------------------+--------------------+------+--------+----+--------+----+--------------+--------+------------+------------+----+--------------------+--------+---------+--------+\n",
      "|11034701|   JA366925|01/01/2001 11:00:...|016XX E 86TH PL|1153|DECEPTIVE PRACTICE|FINANCIAL IDENTIT...|           RESIDENCE| false|   false|0412|     004|   8|            45|      11|        null|        null|2001|08/05/2017 03:50:...|    null|     null|    null|\n",
      "+--------+-----------+--------------------+---------------+----+------------------+--------------------+--------------------+------+--------+----+--------+----+--------------+--------+------------+------------+----+--------------------+--------+---------+--------+\n",
      "only showing top 1 row\n",
      "\n"
     ]
    }
   ],
   "source": [
    "mydata.show(1)"
   ]
  },
  {
   "cell_type": "code",
   "execution_count": 4,
   "metadata": {},
   "outputs": [],
   "source": [
    "# # sample a fraction of data\n",
    "# mydata.sample(.0001, False, 42).collect()\n",
    "# mydata.head(1)"
   ]
  },
  {
   "cell_type": "markdown",
   "metadata": {},
   "source": [
    "## Question 1\n",
    "By using SparkSQL, generate a histogram of average crime events by month. Find an explanation of results. (10 pts)"
   ]
  },
  {
   "cell_type": "code",
   "execution_count": 5,
   "metadata": {},
   "outputs": [
    {
     "data": {
      "text/plain": [
       "[('ID', 'string'),\n",
       " ('Case Number', 'string'),\n",
       " ('Date', 'string'),\n",
       " ('Block', 'string'),\n",
       " ('IUCR', 'string'),\n",
       " ('Primary Type', 'string'),\n",
       " ('Description', 'string'),\n",
       " ('Location Description', 'string'),\n",
       " ('Arrest', 'string'),\n",
       " ('Domestic', 'string'),\n",
       " ('Beat', 'string'),\n",
       " ('District', 'string'),\n",
       " ('Ward', 'string'),\n",
       " ('Community Area', 'string'),\n",
       " ('FBI Code', 'string'),\n",
       " ('X Coordinate', 'string'),\n",
       " ('Y Coordinate', 'string'),\n",
       " ('Year', 'string'),\n",
       " ('Updated On', 'string'),\n",
       " ('Latitude', 'string'),\n",
       " ('Longitude', 'string'),\n",
       " ('Location', 'string')]"
      ]
     },
     "execution_count": 5,
     "metadata": {},
     "output_type": "execute_result"
    }
   ],
   "source": [
    "mydata.dtypes"
   ]
  },
  {
   "cell_type": "markdown",
   "metadata": {},
   "source": [
    "ID\n",
    "Case Number\n",
    "Date='09/03/2017 10:00:00 PM'\n",
    "Block='030XX N CENTRAL AVE'\n",
    "IUCR='0915'\n",
    "Primary Type='MOTOR VEHICLE THEFT'\n",
    "Description='TRUCK, BUS, MOTOR HOME'\n",
    "Location Description='VEHICLE NON-COMMERCIAL'\n",
    "Arrest='false'\n",
    "Domestic='false'\n",
    "Beat='2514'\n",
    "District='025'\n",
    "Ward='31'\n",
    "Community Area='19'\n",
    "FBI Code='07'\n",
    "X Coordinate='1138505'\n",
    "Y Coordinate='1919683'\n",
    "Year='2017'\n",
    "Updated On='02/10/2018 03:50:01 PM'\n",
    "Latitude='41.935738494'\n",
    "Longitude='-87.766399726'\n",
    "Location='(41.935738494, -87.766399726)')"
   ]
  },
  {
   "cell_type": "code",
   "execution_count": 6,
   "metadata": {},
   "outputs": [],
   "source": [
    "mydata_month = mydata.withColumn('Month', mydata['Date'].substr(0, 2))"
   ]
  },
  {
   "cell_type": "code",
   "execution_count": 7,
   "metadata": {},
   "outputs": [
    {
     "name": "stdout",
     "output_type": "stream",
     "text": [
      "+-----+----+-----+\n",
      "|Month|Year|count|\n",
      "+-----+----+-----+\n",
      "|   04|2012|27182|\n",
      "|   04|2020|10537|\n",
      "|   03|2014|22188|\n",
      "|   07|2004|43238|\n",
      "|   06|2004|41134|\n",
      "|   07|2016|24837|\n",
      "|   02|2005|31987|\n",
      "|   06|2016|24045|\n",
      "|   07|2012|31979|\n",
      "|   06|2014|25430|\n",
      "|   05|2003|41195|\n",
      "|   01|2004|35106|\n",
      "|   03|2017|20535|\n",
      "|   08|2014|25879|\n",
      "|   03|2009|33688|\n",
      "|   04|2019|20941|\n",
      "|   04|2007|35634|\n",
      "|   04|2006|36476|\n",
      "|   04|2003|39789|\n",
      "|   02|2009|28234|\n",
      "+-----+----+-----+\n",
      "only showing top 20 rows\n",
      "\n"
     ]
    }
   ],
   "source": [
    "mydata_month.groupBy(\"Month\",\"Year\").count().show()"
   ]
  },
  {
   "cell_type": "code",
   "execution_count": 8,
   "metadata": {},
   "outputs": [],
   "source": [
    "monthly_avg = mydata_month.groupBy(\"Month\",\"Year\").count().select(\"Month\",\"count\").groupBy(\"Month\").avg().orderBy(\"Month\")"
   ]
  },
  {
   "cell_type": "code",
   "execution_count": 9,
   "metadata": {},
   "outputs": [
    {
     "name": "stdout",
     "output_type": "stream",
     "text": [
      "+-----+------------------+\n",
      "|Month|        avg(count)|\n",
      "+-----+------------------+\n",
      "|   01|           28404.2|\n",
      "|   02|          25014.85|\n",
      "|   03|           29715.8|\n",
      "|   04|           29541.4|\n",
      "|   05| 32995.73684210526|\n",
      "|   06| 32839.52631578947|\n",
      "|   07| 34506.05263157895|\n",
      "|   08| 34159.15789473684|\n",
      "|   09|32008.894736842107|\n",
      "|   10|32353.894736842107|\n",
      "|   11|29134.894736842107|\n",
      "|   12|27658.473684210527|\n",
      "+-----+------------------+\n",
      "\n"
     ]
    }
   ],
   "source": [
    "monthly_avg.show()"
   ]
  },
  {
   "cell_type": "code",
   "execution_count": 11,
   "metadata": {},
   "outputs": [],
   "source": [
    "%matplotlib inline\n",
    "import matplotlib.pyplot as plt\n",
    "monthly_avg.toPandas().hist(column='avg(count)',bins=20)"
   ]
  },
  {
   "cell_type": "code",
   "execution_count": null,
   "metadata": {},
   "outputs": [],
   "source": []
  }
 ],
 "metadata": {
  "kernelspec": {
   "display_name": "Python (msia431)",
   "language": "python",
   "name": "msia431"
  },
  "language_info": {
   "codemirror_mode": {
    "name": "ipython",
    "version": 3
   },
   "file_extension": ".py",
   "mimetype": "text/x-python",
   "name": "python",
   "nbconvert_exporter": "python",
   "pygments_lexer": "ipython3",
   "version": "3.7.7"
  }
 },
 "nbformat": 4,
 "nbformat_minor": 4
}
