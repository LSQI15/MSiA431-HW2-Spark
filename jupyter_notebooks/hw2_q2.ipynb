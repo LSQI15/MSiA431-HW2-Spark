{
 "cells": [
  {
   "cell_type": "code",
   "execution_count": 1,
   "metadata": {},
   "outputs": [],
   "source": [
    "from pyspark import SparkContext\n",
    "sc = SparkContext()"
   ]
  },
  {
   "cell_type": "code",
   "execution_count": 2,
   "metadata": {},
   "outputs": [],
   "source": [
    "myRDD = sc.textFile(\"hdfs://wolf.analytics.private/user/slx4192/data/crime/Crimes_-_2001_to_present.csv\") \n",
    "header = myRDD.first()\n",
    "data = myRDD.filter(lambda row: row != header)"
   ]
  },
  {
   "cell_type": "code",
   "execution_count": 3,
   "metadata": {},
   "outputs": [
    {
     "data": {
      "text/plain": [
       "['ID',\n",
       " 'Case Number',\n",
       " 'Date',\n",
       " 'Block',\n",
       " 'IUCR',\n",
       " 'Primary Type',\n",
       " 'Description',\n",
       " 'Location Description',\n",
       " 'Arrest',\n",
       " 'Domestic',\n",
       " 'Beat',\n",
       " 'District',\n",
       " 'Ward',\n",
       " 'Community Area',\n",
       " 'FBI Code',\n",
       " 'X Coordinate',\n",
       " 'Y Coordinate',\n",
       " 'Year',\n",
       " 'Updated On',\n",
       " 'Latitude',\n",
       " 'Longitude',\n",
       " 'Location']"
      ]
     },
     "execution_count": 3,
     "metadata": {},
     "output_type": "execute_result"
    }
   ],
   "source": [
    "header.split(\",\")"
   ]
  },
  {
   "cell_type": "code",
   "execution_count": 4,
   "metadata": {},
   "outputs": [],
   "source": [
    "splitted_data = data.map(lambda line: line.split(\",\"))"
   ]
  },
  {
   "cell_type": "code",
   "execution_count": 5,
   "metadata": {},
   "outputs": [
    {
     "data": {
      "text/plain": [
       "[['11034701',\n",
       "  'JA366925',\n",
       "  '01/01/2001 11:00:00 AM',\n",
       "  '016XX E 86TH PL',\n",
       "  '1153',\n",
       "  'DECEPTIVE PRACTICE',\n",
       "  'FINANCIAL IDENTITY THEFT OVER $ 300',\n",
       "  'RESIDENCE',\n",
       "  'false',\n",
       "  'false',\n",
       "  '0412',\n",
       "  '004',\n",
       "  '8',\n",
       "  '45',\n",
       "  '11',\n",
       "  '',\n",
       "  '',\n",
       "  '2001',\n",
       "  '08/05/2017 03:50:08 PM',\n",
       "  '',\n",
       "  '',\n",
       "  '']]"
      ]
     },
     "execution_count": 5,
     "metadata": {},
     "output_type": "execute_result"
    }
   ],
   "source": [
    "splitted_data.take(1)"
   ]
  },
  {
   "cell_type": "markdown",
   "metadata": {},
   "source": [
    "## Question 2:\n",
    "By using plain Spark (RDDs): \n",
    "* (1) find the top 10 blocks in crime events in the last 3 years; "
   ]
  },
  {
   "cell_type": "code",
   "execution_count": 6,
   "metadata": {},
   "outputs": [],
   "source": [
    "top_10_blocks_last_3_years = splitted_data\\\n",
    "    .map(lambda x: (x[3][0:5], x[17]))\\\n",
    "    .filter(lambda x:  x[1] in [\"2019\",\"2018\",\"2017\"])\\\n",
    "    .map(lambda x: (x[0], 1))\\\n",
    "    .reduceByKey(lambda a, b: a+b)\\\n",
    "    .sortBy(lambda x: -x[1]).take(10)"
   ]
  },
  {
   "cell_type": "code",
   "execution_count": 7,
   "metadata": {},
   "outputs": [
    {
     "name": "stdout",
     "output_type": "stream",
     "text": [
      "('0000X', 29735)\n",
      "\n",
      "('001XX', 21553)\n",
      "\n",
      "('002XX', 16943)\n",
      "\n",
      "('003XX', 15281)\n",
      "\n",
      "('008XX', 14520)\n",
      "\n",
      "('015XX', 14150)\n",
      "\n",
      "('006XX', 13384)\n",
      "\n",
      "('007XX', 13255)\n",
      "\n",
      "('014XX', 13218)\n",
      "\n",
      "('011XX', 13165)\n",
      "\n"
     ]
    }
   ],
   "source": [
    "for i in range(len(top_10_blocks_last_3_years)):\n",
    "    print(str(top_10_blocks_last_3_years[i]) + \"\\n\")"
   ]
  },
  {
   "cell_type": "markdown",
   "metadata": {},
   "source": [
    "* (2) find the two beats that are adjacent with the highest correlation in the number of crime events (this will require you looking at the map to determine if the correlated beats are adjacent to each other) over the last 5 years "
   ]
  },
  {
   "cell_type": "code",
   "execution_count": 80,
   "metadata": {},
   "outputs": [
    {
     "data": {
      "text/plain": [
       "[('0222', [977, 1038, 1154, 1026, 1011]),\n",
       " ('0323', [1257, 1207, 1199, 1183, 1073]),\n",
       " ('0332', [1201, 1125, 1255, 1240, 1197]),\n",
       " ('0412', [1169, 1159, 1080, 1002, 1032]),\n",
       " ('0414', [1736, 1570, 1536, 1482, 1512])]"
      ]
     },
     "execution_count": 80,
     "metadata": {},
     "output_type": "execute_result"
    }
   ],
   "source": [
    "beat_as_key = splitted_data\\\n",
    "    .map(lambda x: (x[10], x[17]))\\\n",
    "    .filter(lambda x:  x[1] in [\"2019\",\"2018\",\"2017\",\"2016\",\"2015\"])\\\n",
    "    .map(lambda x: (x[0]+\"-\"+x[1],1))\\\n",
    "    .reduceByKey(lambda a, b: a+b)\\\n",
    "    .map(lambda x: (x[0][0:4],x[0][5:], x[1]))\\\n",
    "    .sortBy(lambda x: (x[0], x[1]))\\\n",
    "    .map(lambda x: (x[0], [x[2]]))\\\n",
    "    .reduceByKey(lambda a,b: a+b)\n",
    "beat_as_key.take(5)"
   ]
  },
  {
   "cell_type": "code",
   "execution_count": 81,
   "metadata": {},
   "outputs": [
    {
     "data": {
      "text/plain": [
       "array([[ 1.        ,  0.01643896,  0.43276865, ..., -0.13230473,\n",
       "         0.99711788, -0.78387219],\n",
       "       [ 0.01643896,  1.        , -0.03872042, ...,  0.16980257,\n",
       "        -0.01132901,  0.01257553],\n",
       "       [ 0.43276865, -0.03872042,  1.        , ..., -0.93076138,\n",
       "         0.47903001, -0.06663072],\n",
       "       ...,\n",
       "       [-0.13230473,  0.16980257, -0.93076138, ...,  1.        ,\n",
       "        -0.19425822, -0.09288897],\n",
       "       [ 0.99711788, -0.01132901,  0.47903001, ..., -0.19425822,\n",
       "         1.        , -0.79291696],\n",
       "       [-0.78387219,  0.01257553, -0.06663072, ..., -0.09288897,\n",
       "        -0.79291696,  1.        ]])"
      ]
     },
     "execution_count": 81,
     "metadata": {},
     "output_type": "execute_result"
    }
   ],
   "source": [
    "dict = beat_as_key.collectAsMap()\n",
    "import numpy as np\n",
    "cor_m = np.corrcoef(list(dict.values()))\n",
    "cor_m"
   ]
  },
  {
   "cell_type": "code",
   "execution_count": 82,
   "metadata": {},
   "outputs": [],
   "source": [
    "beat = list(dict.keys())\n",
    "results = []\n",
    "for j in range(len(beat)):\n",
    "    for i in range(len(beat)):\n",
    "        if i > j:\n",
    "            results.append([cor_m[j][i],beat[j],beat[i]])\n",
    "results.sort(key = lambda x: abs(x[0]),reverse = True)"
   ]
  },
  {
   "cell_type": "code",
   "execution_count": 83,
   "metadata": {},
   "outputs": [
    {
     "name": "stdout",
     "output_type": "stream",
     "text": [
      "[0.9990217951872251, '0932', '1712']\n",
      "[-0.9989663097085922, '0722', '0524']\n",
      "[-0.9989584071519785, '0423', '2233']\n",
      "[-0.9984745766683734, '0823', '0114']\n",
      "[0.9983682879794051, '1833', '0112']\n",
      "[-0.9981285880478877, '0322', '0121']\n",
      "[-0.9979341284804639, '0724', '1023']\n",
      "[-0.9978705580636585, '1224', '0334']\n",
      "[0.9977500996044635, '2012', '2022']\n",
      "[-0.9975881001567053, '1234', '1114']\n",
      "[-0.9975015396744252, '0631', '1712']\n",
      "[0.9971178756977078, '0222', '2424']\n",
      "[0.9969888556541437, '0323', '1633']\n",
      "[-0.9969707138179038, '0133', '1935']\n",
      "[-0.9968407957234459, '0932', '0631']\n",
      "[0.9967070577227053, '0913', '0432']\n",
      "[-0.9966681789381544, '1233', '0321']\n",
      "[0.9966563036077083, '1134', '1624']\n",
      "[-0.9966087733181834, '0622', '0522']\n",
      "[0.996501504317359, '0726', '0522']\n",
      "[0.9964135922410454, '1653', '0232']\n",
      "[0.9963289779881659, '0123', '1232']\n",
      "[0.9963015026442582, '0214', '1434']\n",
      "[0.9960817471423913, '1231', '1922']\n",
      "[0.9958957346998863, '0114', '1822']\n",
      "[0.9957097166358225, '1125', '1511']\n",
      "[-0.9956998887399396, '1233', '2534']\n",
      "[-0.9956558017488325, '0821', '1232']\n",
      "[0.9953856012549759, '1631', '0822']\n",
      "[-0.995233130318626, '0223', '1631']\n",
      "[0.9951930141604244, '0824', '2521']\n",
      "[-0.9951772180650292, '0133', '1812']\n",
      "[-0.9951307523448395, '0513', '2412']\n",
      "[-0.9950655521332116, '0723', '1214']\n",
      "[-0.9949880687381737, '1532', '0211']\n",
      "[0.994956686207754, '1814', '1131']\n",
      "[-0.9949361457954777, '0223', '0822']\n",
      "[0.9948464265363841, '1933', '1931']\n",
      "[0.9948109345910093, '1814', '1912']\n",
      "[0.9946863382511106, '1932', '1931']\n",
      "[0.9945040913975521, '2524', '1221']\n",
      "[-0.9943117249184482, '0533', '1111']\n",
      "[0.9941347261933624, '1731', '0935']\n",
      "[-0.9941338997006548, '0925', '0235']\n",
      "[0.9940792085735701, '0412', '0934']\n",
      "[-0.9940415552437558, '1832', '1111']\n",
      "[-0.9939980359758298, '0823', '1024']\n",
      "[0.9937105209346576, '1833', '0122']\n",
      "[0.9936975391923185, '0822', '1221']\n",
      "[0.9931483735160982, '2511', '0911']\n"
     ]
    }
   ],
   "source": [
    "print('\\n'.join(map(str, results[0:50]))) "
   ]
  },
  {
   "cell_type": "markdown",
   "metadata": {},
   "source": [
    "* (3) establish if the number of crime events is different between Majors Daly and Emanuel at a granularity of your choice (not only at the city level). Find an explanation of results. (20 pts)\n",
    "\n",
    "    * Rahm Emanuel (2011–2019):     - use 2015,2016,2017,2018,2019 for this problem \n",
    "\n",
    "    * Richard M. Daley (1989–2011): - use 2006,2007,2008,2009,2010 for this problem"
   ]
  },
  {
   "cell_type": "code",
   "execution_count": 17,
   "metadata": {},
   "outputs": [
    {
     "name": "stdout",
     "output_type": "stream",
     "text": [
      "[191.35]\n",
      "[284.65]\n"
     ]
    }
   ],
   "source": [
    "Emanuel_year = ['2015','2016','2017','2018','2019']\n",
    "Daley_year = ['2006','2007','2008','2009','2010']\n",
    "\n",
    "# the average number of arrest in block 0000X during the last five years when Emanuel was in charge\n",
    "Emanuel_avg = splitted_data\\\n",
    "    .map(lambda x: (x[3][0:5], x[8],x[17]))\\\n",
    "    .filter(lambda x: x[1] =='true')\\\n",
    "    .filter(lambda x:x[0]==\"0000X\")\\\n",
    "    .filter(lambda x:  x[2] in Emanuel_year)\\\n",
    "    .map(lambda x: (x[0], 1))\\\n",
    "    .reduceByKey(lambda a, b: a+b)\\\n",
    "    .map(lambda x: x[1]/60).take(1)\n",
    "print(Emanuel_avg)\n",
    "#[191.35]\n",
    "    \n",
    "# the average number of arrest in block 0000X during the last five years when Daley was in charge\n",
    "Daley_avg = splitted_data\\\n",
    "    .map(lambda x: (x[3][0:5], x[8],x[17]))\\\n",
    "    .filter(lambda x: x[1] =='true')\\\n",
    "    .filter(lambda x:x[0]==\"0000X\")\\\n",
    "    .filter(lambda x:  x[2] in Daley_year)\\\n",
    "    .map(lambda x: (x[0], 1))\\\n",
    "    .reduceByKey(lambda a, b: a+b)\\\n",
    "    .map(lambda x: x[1]/60).take(1)\n",
    "print(Daley_avg)\n",
    "# [284.65]"
   ]
  },
  {
   "cell_type": "code",
   "execution_count": null,
   "metadata": {},
   "outputs": [],
   "source": []
  }
 ],
 "metadata": {
  "kernelspec": {
   "display_name": "Python (msia431)",
   "language": "python",
   "name": "msia431"
  },
  "language_info": {
   "codemirror_mode": {
    "name": "ipython",
    "version": 3
   },
   "file_extension": ".py",
   "mimetype": "text/x-python",
   "name": "python",
   "nbconvert_exporter": "python",
   "pygments_lexer": "ipython3",
   "version": "3.7.7"
  }
 },
 "nbformat": 4,
 "nbformat_minor": 4
}
