{
 "cells": [
  {
   "cell_type": "code",
   "execution_count": 1,
   "metadata": {},
   "outputs": [
    {
     "name": "stdout",
     "output_type": "stream",
     "text": [
      "+--------+-----------+--------------------+--------------------+----+--------------------+--------------------+--------------------+------+--------+----+--------+----+--------------+--------+------------+------------+----+--------------------+--------+---------+--------+\n",
      "|      ID|Case Number|                Date|               Block|IUCR|        Primary Type|         Description|Location Description|Arrest|Domestic|Beat|District|Ward|Community Area|FBI Code|X Coordinate|Y Coordinate|Year|          Updated On|Latitude|Longitude|Location|\n",
      "+--------+-----------+--------------------+--------------------+----+--------------------+--------------------+--------------------+------+--------+----+--------+----+--------------+--------+------------+------------+----+--------------------+--------+---------+--------+\n",
      "|11042582|   JA377037|01/01/2011 12:01:...|054XX S CALIFORNI...|1754|OFFENSE INVOLVING...|AGG SEX ASSLT OF ...|           APARTMENT|  true|    true|0923|     009|  14|            63|      02|        null|        null|2011|08/13/2017 03:50:...|    null|     null|    null|\n",
      "|10581023|   HZ329792|09/01/2014 08:00:...|     0000X E LAKE ST|1140|  DECEPTIVE PRACTICE|        EMBEZZLEMENT|               OTHER|  true|   false|0111|     001|  42|            32|      12|        null|        null|2014|03/01/2018 03:52:...|    null|     null|    null|\n",
      "|11243412|   JB168772|08/24/2017 03:18:...|  057XX S CICERO AVE|0810|               THEFT|           OVER $500|          RESTAURANT|  true|   false|0813|     008|  23|            56|      06|        null|        null|2017|03/15/2018 03:53:...|    null|     null|    null|\n",
      "|11439193|   JB330583|07/01/2018 11:59:...|  0000X N HOMAN BLVD|2017|           NARCOTICS|  MANU/DELIVER:CRACK|               ALLEY|  true|   false|1123|     011|  28|            27|      18|        null|        null|2018|03/26/2019 04:15:...|    null|     null|    null|\n",
      "| 9771966|   HX347197|07/16/2014 10:50:...|063XX S COTTAGE G...|1821|           NARCOTICS|MANU/DEL:CANNABIS...|VEHICLE NON-COMME...|  true|   false|0312|     003|  20|            42|      18|        null|        null|2014|07/25/2017 03:48:...|    null|     null|    null|\n",
      "+--------+-----------+--------------------+--------------------+----+--------------------+--------------------+--------------------+------+--------+----+--------+----+--------------+--------+------------+------------+----+--------------------+--------+---------+--------+\n",
      "only showing top 5 rows\n",
      "\n"
     ]
    }
   ],
   "source": [
    "from pyspark.sql import SQLContext\n",
    "from pyspark import SparkContext\n",
    "from pyspark.sql.functions import *\n",
    "from pyspark.sql.types import TimestampType\n",
    "from datetime import datetime\n",
    "import matplotlib.pyplot as plt\n",
    "\n",
    "sc = SparkContext()\n",
    "sqlcontext = SQLContext(sc)\n",
    "path = \"hdfs://wolf.analytics.private/user/slx4192/data/crime/Crimes_-_2001_to_present.csv\"\n",
    "mydata = sqlcontext.read.csv(path, header=True)\n",
    "mydata = mydata.filter(mydata.Arrest == \"true\")\n",
    "mydata.show(5)"
   ]
  },
  {
   "cell_type": "markdown",
   "metadata": {},
   "source": [
    "## Question 4:\n",
    "Find patterns of crimes with arrest with respect to time of the day, day of the week, and month. Use whatever method in spark you would like. (25 pts)"
   ]
  },
  {
   "cell_type": "markdown",
   "metadata": {},
   "source": [
    "### Time of the day"
   ]
  },
  {
   "cell_type": "code",
   "execution_count": 50,
   "metadata": {},
   "outputs": [
    {
     "name": "stdout",
     "output_type": "stream",
     "text": [
      "+----+------------------+\n",
      "|Hour|        avg(count)|\n",
      "+----+------------------+\n",
      "|   0|11.356300610882228|\n",
      "|   1|  8.56985556985557|\n",
      "|   2| 6.946610416060518|\n",
      "|   3| 5.399343381584838|\n",
      "|   4|3.9454717875770506|\n",
      "|   5| 2.935792349726776|\n",
      "|   6|3.3753855644663786|\n",
      "|   7| 4.269413864921154|\n",
      "|   8| 6.444428468727534|\n",
      "|   9| 8.267645800655925|\n",
      "|  10|11.450830140485312|\n",
      "|  11|14.860102156640181|\n",
      "|  12|15.446509648127128|\n",
      "|  13|14.933314415437003|\n",
      "|  14|14.678449744463373|\n",
      "|  15|14.273294568146362|\n",
      "|  16|13.621809415768576|\n",
      "|  17|13.202723790608596|\n",
      "|  18|15.406750815487165|\n",
      "|  19|19.293250141803743|\n",
      "|  20|19.395233366434955|\n",
      "|  21|18.708954164892862|\n",
      "|  22| 17.33427922814983|\n",
      "|  23|14.329455164585697|\n",
      "+----+------------------+\n",
      "\n"
     ]
    }
   ],
   "source": [
    "getDateTime = udf(lambda x: datetime.strptime( x, '%m/%d/%Y %I:%M:%S %p'), TimestampType())\n",
    "mydata_daytime = mydata\\\n",
    "                    .withColumn('Date_time', getDateTime(col('Date')))\\\n",
    "                    .withColumn(\"Hour\", hour(col(\"Date_time\")))\\\n",
    "                    .withColumn(\"Newdate\",to_date(mydata['Date'], \"MM/dd/yyyy\"))\n",
    "hourly_avg = mydata_daytime.groupBy(\"Hour\", \"Newdate\").count().select(\"Hour\", \"count\").groupBy(\"Hour\").avg(\"count\").orderBy(\"Hour\")\n",
    "hourly_avg.show(24)"
   ]
  },
  {
   "cell_type": "code",
   "execution_count": 51,
   "metadata": {},
   "outputs": [],
   "source": [
    "hourly_avg.toPandas().plot.bar(x=\"Hour\", y=\"avg(count)\")\n",
    "plt.title('Average Number of Crime with Arrest by Hour of the Day')\n",
    "plt.savefig(\"slx4192_4_Hour_of_Day.png\")"
   ]
  },
  {
   "cell_type": "markdown",
   "metadata": {},
   "source": [
    "### Day of the week"
   ]
  },
  {
   "cell_type": "code",
   "execution_count": 2,
   "metadata": {},
   "outputs": [
    {
     "name": "stdout",
     "output_type": "stream",
     "text": [
      "+-----------+------------------+\n",
      "|Day_of_week|        avg(count)|\n",
      "+-----------+------------------+\n",
      "|        Mon| 263.4424603174603|\n",
      "|        Tue|  284.140873015873|\n",
      "|        Wed| 287.6746031746032|\n",
      "|        Thu| 283.6309523809524|\n",
      "|        Fri| 290.1140873015873|\n",
      "|        Sat| 272.7083333333333|\n",
      "|        Sun|251.28670634920636|\n",
      "+-----------+------------------+\n",
      "\n"
     ]
    }
   ],
   "source": [
    "temp = mydata.withColumn(\"newdate\",to_date(mydata['Date'], \"MM/dd/yyyy\"))\n",
    "mydata_day_of_week = temp\\\n",
    "                    .withColumn(\"Day_of_week_number\",date_format(temp[\"newdate\"], \"u\"))\\\n",
    "                    .withColumn(\"Day_of_week\",date_format(temp[\"newdate\"], \"E\"))\n",
    "day_of_week_avg = mydata_day_of_week.groupBy(\"Day_of_week\",\"Day_of_week_number\", \"newdate\").count().select(\"Day_of_week\", \"Day_of_week_number\",\"count\")\\\n",
    "    .groupBy(\"Day_of_week\", \"Day_of_week_number\").avg().orderBy(\"Day_of_week_number\").select(\"Day_of_week\", \"avg(count)\")\n",
    "day_of_week_avg.show(7)"
   ]
  },
  {
   "cell_type": "code",
   "execution_count": null,
   "metadata": {},
   "outputs": [],
   "source": [
    "day_of_week_avg.toPandas().plot.bar(x=\"Day_of_week\", y=\"avg(count)\")\n",
    "plt.title('Average Number of Crime with Arrest by Day_of_week')\n",
    "plt.savefig(\"slx4192_4_Day_of_week.png\")"
   ]
  },
  {
   "cell_type": "markdown",
   "metadata": {},
   "source": [
    "### Month of Year"
   ]
  },
  {
   "cell_type": "code",
   "execution_count": 3,
   "metadata": {},
   "outputs": [
    {
     "name": "stdout",
     "output_type": "stream",
     "text": [
      "+-----+------------------+\n",
      "|Month|        avg(count)|\n",
      "+-----+------------------+\n",
      "|   01|           8246.15|\n",
      "|   02|           7632.65|\n",
      "|   03|            8618.4|\n",
      "|   04|           8206.35|\n",
      "|   05| 9010.631578947368|\n",
      "|   06|            8652.0|\n",
      "|   07| 8945.263157894737|\n",
      "|   08|  9028.21052631579|\n",
      "|   09| 8586.315789473685|\n",
      "|   10| 8620.631578947368|\n",
      "|   11| 7929.736842105263|\n",
      "|   12|7353.0526315789475|\n",
      "+-----+------------------+\n",
      "\n"
     ]
    }
   ],
   "source": [
    "mydata_month = mydata.withColumn('Month', mydata['Date'].substr(0, 2))\n",
    "monthly_avg = mydata_month.groupBy(\"Month\", \"Year\").count().select(\"Month\", \"count\").groupBy(\"Month\").avg().orderBy(\"Month\")\n",
    "monthly_avg.show(12)"
   ]
  },
  {
   "cell_type": "code",
   "execution_count": null,
   "metadata": {},
   "outputs": [],
   "source": [
    "monthly_avg.toPandas().plot.bar(x=\"Month\", y=\"avg(count)\")\n",
    "plt.title('Average Number of Crime with Arrest by Month')\n",
    "plt.savefig(\"slx4192_4_Month_of_Year.png\")"
   ]
  }
 ],
 "metadata": {
  "kernelspec": {
   "display_name": "Python 3",
   "language": "python",
   "name": "python3"
  },
  "language_info": {
   "codemirror_mode": {
    "name": "ipython",
    "version": 3
   },
   "file_extension": ".py",
   "mimetype": "text/x-python",
   "name": "python",
   "nbconvert_exporter": "python",
   "pygments_lexer": "ipython3",
   "version": "3.7.6"
  }
 },
 "nbformat": 4,
 "nbformat_minor": 4
}
